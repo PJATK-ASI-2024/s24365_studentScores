{
 "cells": [
  {
   "metadata": {
    "collapsed": true,
    "ExecuteTime": {
     "end_time": "2024-11-23T23:10:30.875097Z",
     "start_time": "2024-11-23T23:10:30.871314Z"
    }
   },
   "cell_type": "code",
   "source": [
    "# Importy\n",
    "import pandas as pd\n",
    "from sklearn.model_selection import train_test_split"
   ],
   "id": "initial_id",
   "outputs": [],
   "execution_count": 3
  },
  {
   "metadata": {
    "ExecuteTime": {
     "end_time": "2024-11-23T23:10:38.455386Z",
     "start_time": "2024-11-23T23:10:38.437339Z"
    }
   },
   "cell_type": "code",
   "source": [
    "# Pobranie danych\n",
    "data_path = \"../dataset/StudentPerformanceFactors.csv\"\n",
    "data = pd.read_csv(data_path)"
   ],
   "id": "b8dda834c33d4e83",
   "outputs": [],
   "execution_count": 5
  },
  {
   "metadata": {
    "ExecuteTime": {
     "end_time": "2024-11-23T23:11:29.541740Z",
     "start_time": "2024-11-23T23:11:29.536061Z"
    }
   },
   "cell_type": "code",
   "source": [
    "# Podział danych\n",
    "basic_train_data, additional_train_data = train_test_split(data, test_size=0.3, random_state=42)"
   ],
   "id": "4aba252a84cd0f0e",
   "outputs": [],
   "execution_count": 6
  },
  {
   "metadata": {
    "ExecuteTime": {
     "end_time": "2024-11-23T23:11:53.677325Z",
     "start_time": "2024-11-23T23:11:53.661214Z"
    }
   },
   "cell_type": "code",
   "source": [
    "# Statystyki podstawowych danych treningowych\n",
    "print(basic_train_data.describe())"
   ],
   "id": "5006fd2e5aa7e9e8",
   "outputs": [
    {
     "name": "stdout",
     "output_type": "stream",
     "text": [
      "       Hours_Studied   Attendance  Sleep_Hours  Previous_Scores  \\\n",
      "count    4624.000000  4624.000000  4624.000000      4624.000000   \n",
      "mean       19.957180    79.977941     7.030709        75.097318   \n",
      "std         5.980853    11.565758     1.462313        14.454327   \n",
      "min         1.000000    60.000000     4.000000        50.000000   \n",
      "25%        16.000000    70.000000     6.000000        63.000000   \n",
      "50%        20.000000    80.000000     7.000000        75.000000   \n",
      "75%        24.000000    90.000000     8.000000        88.000000   \n",
      "max        43.000000   100.000000    10.000000       100.000000   \n",
      "\n",
      "       Tutoring_Sessions  Physical_Activity   Exam_Score  \n",
      "count        4624.000000        4624.000000  4624.000000  \n",
      "mean            1.503893           2.973832    67.236808  \n",
      "std             1.237870           1.032443     3.966649  \n",
      "min             0.000000           0.000000    56.000000  \n",
      "25%             1.000000           2.000000    65.000000  \n",
      "50%             1.000000           3.000000    67.000000  \n",
      "75%             2.000000           4.000000    69.000000  \n",
      "max             8.000000           6.000000   101.000000  \n"
     ]
    }
   ],
   "execution_count": 7
  },
  {
   "metadata": {
    "ExecuteTime": {
     "end_time": "2024-11-23T23:12:32.951522Z",
     "start_time": "2024-11-23T23:12:32.937497Z"
    }
   },
   "cell_type": "code",
   "source": [
    "# Statystyki doszklających danych treningowych\n",
    "print(additional_train_data.describe())"
   ],
   "id": "6490acf4675d2366",
   "outputs": [
    {
     "name": "stdout",
     "output_type": "stream",
     "text": [
      "       Hours_Studied   Attendance  Sleep_Hours  Previous_Scores  \\\n",
      "count    1983.000000  1983.000000  1983.000000      1983.000000   \n",
      "mean       20.017650    79.976299     7.025214        75.008069   \n",
      "std         6.014546    11.507640     1.481936        14.275222   \n",
      "min         2.000000    60.000000     4.000000        50.000000   \n",
      "25%        16.000000    70.000000     6.000000        63.000000   \n",
      "50%        20.000000    79.000000     7.000000        75.000000   \n",
      "75%        24.000000    90.000000     8.000000        87.000000   \n",
      "max        44.000000   100.000000    10.000000       100.000000   \n",
      "\n",
      "       Tutoring_Sessions  Physical_Activity   Exam_Score  \n",
      "count        1983.000000        1983.000000  1983.000000  \n",
      "mean            1.469995           2.953101    67.232980  \n",
      "std             1.213356           1.028513     3.707682  \n",
      "min             0.000000           0.000000    55.000000  \n",
      "25%             1.000000           2.000000    65.000000  \n",
      "50%             1.000000           3.000000    67.000000  \n",
      "75%             2.000000           4.000000    70.000000  \n",
      "max             7.000000           6.000000    98.000000  \n"
     ]
    }
   ],
   "execution_count": 10
  },
  {
   "metadata": {
    "ExecuteTime": {
     "end_time": "2024-11-23T23:13:51.590939Z",
     "start_time": "2024-11-23T23:13:51.558411Z"
    }
   },
   "cell_type": "code",
   "source": [
    "# Zapis podzielonych danych\n",
    "basic_train_data.to_csv('../dataset/StudentPerformanceFactors_basic.csv', index=False)\n",
    "additional_train_data.to_csv('../dataset/StudentPerformanceFactors_additional.csv', index=False)"
   ],
   "id": "ea4a6949df5cddf2",
   "outputs": [],
   "execution_count": 12
  }
 ],
 "metadata": {
  "kernelspec": {
   "display_name": "Python 3",
   "language": "python",
   "name": "python3"
  },
  "language_info": {
   "codemirror_mode": {
    "name": "ipython",
    "version": 2
   },
   "file_extension": ".py",
   "mimetype": "text/x-python",
   "name": "python",
   "nbconvert_exporter": "python",
   "pygments_lexer": "ipython2",
   "version": "2.7.6"
  }
 },
 "nbformat": 4,
 "nbformat_minor": 5
}
